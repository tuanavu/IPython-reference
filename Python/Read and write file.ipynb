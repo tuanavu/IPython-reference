{
 "cells": [
  {
   "cell_type": "markdown",
   "metadata": {},
   "source": [
    "# Reading from a file\n",
    "\n",
    "It is useful to be able to store data in a file so data can be reused later. In Python storing data in text files is very simple. Text files are the sort of files that you can view in Notepad or another text editor. We usually give text files the extension .txt.\n",
    "\n",
    "Let's start with reading in from a file. To read from a file, you need to first open the file, then use a FOR loop to iterate over each line of the file:\n",
    "\n",
    "```python\n",
    "with open(\"animals.txt\", mode=\"r\",encoding=\"utf-8\") as my_file:\n",
    "    for line in my_file:\n",
    "        print(line)\n",
    "```\n",
    "\n",
    "Note that we use a with statement to read in the contents of a file. This is the preferred method of opening a file in Python 3 as it ensures that your file is closed properly even if the program throws an exception during execution.\n",
    "\n",
    "In addition to the filename, open takes two parameters:\n",
    "\n",
    "mode - this determines what you can do with the file once it has been opened. There are three main options:\n",
    "\n",
    "```\n",
    "w - open the file for writing (this deletes all existing content if the file already exists)\n",
    "r - open the file for reading\n",
    "a - open the file to append data to it (preserves existing data in the file)\n",
    "encoding - this determines the character set that is available when reading from or writing to the file\n",
    "```\n",
    "\n",
    "By default the character encoding is platform dependent. This means that a different character set is used on Windows compared to Mac or Linux.\n",
    "\n",
    "This not good, therefore we should always set the encoding explicitly as utf-8 when using files."
   ]
  },
  {
   "cell_type": "markdown",
   "metadata": {},
   "source": [
    "# Newline\n",
    "One of the issues the you will encounter reading from a file is the newline character. The purpose of the newline character is obvious but it can be annoying as Python adds its own new line character when printing values to the screen. Therefore you should do the following to strip newline characters from a file:\n",
    "\n",
    "```python\n",
    "with open(\"animals.txt\", mode=\"r\",encoding=\"utf-8\") as my_file:\n",
    "    for line in my_file:\n",
    "        print(line.rstrip(\"\\n\"))\n",
    "```"
   ]
  },
  {
   "cell_type": "markdown",
   "metadata": {},
   "source": [
    "# Reading into a list\n",
    "\n",
    "To read the contents of a file into a list you would need to write the following code:\n",
    "\n",
    "```python\n",
    "with open(\"animals.txt\", mode=\"r\",encoding=\"utf-8\") as my_file:\n",
    "    animals = my_file.read().splitlines()\n",
    "print(animals)\n",
    "```\n",
    "This method reads the entire file and uses the splitlines function to separate the lines of the file and remove the newline character from the end of each line. Once the lines are separated the function places them in a list."
   ]
  },
  {
   "cell_type": "markdown",
   "metadata": {},
   "source": [
    "# Writing to a file\n",
    "\n",
    "The next step is being able to write to a file. If you have taken in some values during the running of a program, such as the user's scores, you will want to save this data for another occasion. You can write it to a file or a database. Here we will show how to write it to a text file.\n",
    "\n",
    "To write to a file, you need to first open the file then use the write() method to write to it:\n",
    "\n",
    "```python\n",
    "animals = [\"dog\",\"cat\",\"horse\"]\n",
    "with open(\"new_animals.txt\", mode=\"w\",encoding=\"utf-8\") as my_file:\n",
    "    for animal in animals:\n",
    "        my_file.write(animal+\"\\n\")\n",
    "```\n"
   ]
  }
 ],
 "metadata": {
  "kernelspec": {
   "display_name": "Python 2",
   "language": "python",
   "name": "python2"
  },
  "language_info": {
   "codemirror_mode": {
    "name": "ipython",
    "version": 2
   },
   "file_extension": ".py",
   "mimetype": "text/x-python",
   "name": "python",
   "nbconvert_exporter": "python",
   "pygments_lexer": "ipython2",
   "version": "2.7.10"
  }
 },
 "nbformat": 4,
 "nbformat_minor": 0
}
