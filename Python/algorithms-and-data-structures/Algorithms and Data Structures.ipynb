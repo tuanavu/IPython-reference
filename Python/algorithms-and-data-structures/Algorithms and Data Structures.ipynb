{
 "cells": [
  {
   "cell_type": "markdown",
   "metadata": {},
   "source": [
    "# Algorithms and Data Structures\n",
    "In this one-day course the following algorithms will be demonstrated:\n",
    "\n",
    "- Linear Search\n",
    "- Binary Search\n",
    "- Bubble Sort\n",
    "- Insertion Sort\n",
    "- Quick Sort\n",
    "\n",
    "These are algorithms that students are expected to understand for A-Level Computing. It is very useful to be able to implement them in a programming language to understand more fully how they work.\n",
    "\n",
    "These data structures will be covered:\n",
    "\n",
    "- Stack\n",
    "- Queue\n",
    "- Linked List\n",
    "- Binary Tree\n",
    "\n",
    "Again, being able to implement these in a programming language will aid understanding."
   ]
  },
  {
   "cell_type": "markdown",
   "metadata": {},
   "source": [
    "# Linear Search\n",
    "\n",
    "The linear search is used to find an item in a list. The items do not have to be in order. To search for an item, start at the beginning of the list and continue searching until either the end of the list is reached or the item is found.\n",
    "\n",
    "The algorithm is as follows (given a list called 'List' and looking for an item called 'item'):\n",
    "\n",
    "```python\n",
    "position <- 0\n",
    "found <- False\n",
    "while position < len(List) and not found:\n",
    "    if List[position] = item:\n",
    "        found <- True\n",
    "    position <- position + 1\n",
    "```"
   ]
  },
  {
   "cell_type": "code",
   "execution_count": 20,
   "metadata": {
    "collapsed": false
   },
   "outputs": [
    {
     "name": "stdout",
     "output_type": "stream",
     "text": [
      "What item do you want to find? apples\n",
      "Your item is in the list\n"
     ]
    }
   ],
   "source": [
    "# %load linearSearch.py\n",
    "\"\"\"\n",
    "Created on Wed Dec 30 13:27:16 2015\n",
    "\n",
    "@author: tvu\n",
    "\"\"\"\n",
    "\n",
    "def linearSearch(myItem,myList):\n",
    "    found = False\n",
    "    position = 0\n",
    "    while position < len(myList) and not found:\n",
    "        if myList[position] == myItem:\n",
    "            found = True\n",
    "        position += 1\n",
    "    return found\n",
    "\n",
    "if __name__ == \"__main__\":\n",
    "    shopping = [\"apples\",\"bananas\",\"chocolate\",\"pasta\"]\n",
    "    item = raw_input(\"What item do you want to find? \")\n",
    "    isitFound = linearSearch(item,shopping)\n",
    "    if isitFound:\n",
    "        print(\"Your item is in the list\")\n",
    "    else:\n",
    "        print(\"Your item is not in the list\")\n",
    "    \n",
    "    "
   ]
  },
  {
   "cell_type": "markdown",
   "metadata": {},
   "source": [
    "# Binary Search\n",
    "\n",
    "The binary search is used to find an item in an ORDERED list.\n",
    "\n",
    "For example, we want to find a number in the list below:\n",
    "\n",
    "```\n",
    "2, 5, 7, 12, 14, 21, 28, 31, 36\n",
    "```\n",
    "\n",
    "To search for an item, look in the middle of the list and see if the number you want is in the middle, above the middle or below the middle. If it is in the middle, you have found the item. If it is higher than the middle value, then adjust the bottom of the list so that you search in a smaller list starting one above the middle of the list. If the number is lower than the middle value, then adjust the top of the list so that you search in a smaller list which has its highest position one less than the middle position.\n",
    "\n",
    "The algorithm is as follows (given a list called 'List' and looking for an item called 'item'):\n",
    "\n",
    "```python\n",
    "Found <- False\n",
    "while not Found and first <= top\n",
    "    Midpoint <- (First + Last) DIV 2\n",
    "    If List[Midpoint] = ItemSought Then\n",
    "        ItemFound <- True\n",
    "    Else\n",
    "        If First >= Last Then\n",
    "            SearchFailed <- True\n",
    "        Else\n",
    "            If List[Midpoint] > ItemSought Then\n",
    "                Last <- Midpoint - 1\n",
    "            Else\n",
    "                First <- Midpoint + 1\n",
    "            EndIf\n",
    "        EndIf\n",
    "    EndIf\n",
    "```"
   ]
  },
  {
   "cell_type": "code",
   "execution_count": 32,
   "metadata": {
    "collapsed": false
   },
   "outputs": [
    {
     "name": "stdout",
     "output_type": "stream",
     "text": [
      "What number are you looking for? 12\n",
      "Your number is in the list\n"
     ]
    }
   ],
   "source": [
    "# %load binarySearch.py\n",
    "\"\"\"\n",
    "Created on Wed Dec 30 14:00:22 2015\n",
    "\n",
    "@author: tvu\n",
    "\"\"\"\n",
    "def binarySearch(myItem,myList):\n",
    "    found = False\n",
    "    bottom = 0\n",
    "    top = len(myList) - 1\n",
    "    while bottom <= top and not found:\n",
    "        middle = (bottom + top)//2\n",
    "        if myList[middle] == myItem:\n",
    "            found = True\n",
    "        elif myList[middle] < myItem:\n",
    "            bottom = middle + 1\n",
    "        else:\n",
    "            top = middle - 1\n",
    "    return found\n",
    "\n",
    "if __name__ == \"__main__\":\n",
    "    numberList = [1,4,6,8,12,15,18,19,24,27,31,42,43,58]\n",
    "    item = int(raw_input(\"What number are you looking for? \"))\n",
    "    isitFound = binarySearch(item,numberList)\n",
    "    if isitFound:\n",
    "        print(\"Your number is in the list\")\n",
    "    else:\n",
    "        print(\"Your number is not in the list\")"
   ]
  },
  {
   "cell_type": "markdown",
   "metadata": {},
   "source": [
    "# Bubble Sort\n",
    "\n",
    "There are various ways of sorting a list, for example:\n",
    "\n",
    "- bubble sort\n",
    "- merge sort\n",
    "- shell sort\n",
    "- insertion sort\n",
    "- quick sort\n",
    "\n",
    "The bubble sort is one method we can use to sort a list.\n",
    "\n",
    "For example, we want to sort the list below:\n",
    "\n",
    "```\n",
    "12, 5, 7, 18, 11, 6, 12, 4, 17, 1\n",
    "```\n",
    "\n",
    "In this course we will look at the bubble sort and insertion sort (required by the AQA A-Level specification) and the quick sort (required by the OCR A-Level specificaton).\n",
    "\n",
    "Here is the algorithm for the bubble sort:\n",
    "\n",
    "```python\n",
    "Repeat\n",
    "    X ← StartofArray\n",
    "    Flag ← False\n",
    "    Repeat\n",
    "        If Number(X) > Number (X+ 1) Then\n",
    "            Temp ← Number(X)\n",
    "            Number (X) ← Number (X+ 1)\n",
    "            Number(X+I) ← Temp\n",
    "            Flag ← True\n",
    "        End If\n",
    "        X ← X+1\n",
    "    Until EndofArray\n",
    "Until Flag = False\n",
    "```"
   ]
  },
  {
   "cell_type": "code",
   "execution_count": 38,
   "metadata": {
    "collapsed": false
   },
   "outputs": [
    {
     "name": "stdout",
     "output_type": "stream",
     "text": [
      "[1, 2, 3, 5, 6, 7, 9]\n"
     ]
    }
   ],
   "source": [
    "# %load bubbleSort.py\n",
    "\"\"\"\n",
    "Created on Wed Dec 30 14:21:24 2015\n",
    "\n",
    "@author: tvu\n",
    "\"\"\"\n",
    "\n",
    "def bubbleSort(myList):\n",
    "    # bubble sort algorithm\n",
    "    moreSwaps = True\n",
    "    while moreSwaps:\n",
    "        moreSwaps = False\n",
    "        for element in range(len(myList) - 1):\n",
    "            if myList[element] > myList[element+1]:\n",
    "                moreSwaps = True\n",
    "                myList[element], myList[element+1] = myList[element+1], myList[element]\n",
    "    return myList\n",
    "\n",
    "if __name__ == \"__main__\":\n",
    "    myList = [5,2,7,1,9,3,6]\n",
    "    sortedList = bubbleSort(myList)\n",
    "    print sortedList"
   ]
  },
  {
   "cell_type": "markdown",
   "metadata": {},
   "source": [
    "# Insertion Sort\n",
    "\n",
    "The insertion sort uses the principle of a **marker** moving along a list with a sorted side to the left side of the marker and the unsorted side to the right of the marker.\n",
    "\n",
    "The list of steps is as follows:\n",
    "\n",
    "This video tutorial from Virginia Tech shows this being demonstrated using a set of cards.\n",
    "\n",
    "- [Click here for animation](http://courses.cs.vt.edu/csonline/Algorithms/Lessons/InsertionCardSort/insertioncardsort.html)\n",
    "\n",
    "Here is the algorithm for the insertion sort:\n",
    "\n",
    "```python\n",
    "Procedure InsertionSort (List, First, Last)\n",
    "    For CurrentPointer <- First + 1 To Last\n",
    "        CurrentValue <- List[CurrentPointer]\n",
    "        Pointer <- CurrentPointer − 1\n",
    "        While List[Pointer] > CurrentValue AND Pointer > 0\n",
    "            List[Pointer+1] <- List[Pointer]\n",
    "            Pointer <- Pointer − 1\n",
    "        EndWhile\n",
    "        List[Pointer+1] <- CurrentValue\n",
    "    EndFor\n",
    "EndProcedure\n",
    "```"
   ]
  },
  {
   "cell_type": "code",
   "execution_count": 40,
   "metadata": {
    "collapsed": false
   },
   "outputs": [
    {
     "name": "stdout",
     "output_type": "stream",
     "text": [
      "[1, 2, 3, 5, 6, 7, 9]\n"
     ]
    }
   ],
   "source": [
    "# %load insertionSort.py\n",
    "\"\"\"\n",
    "Created on Wed Dec 30 14:32:29 2015\n",
    "\n",
    "@author: tvu\n",
    "\"\"\"\n",
    "\n",
    "def insertionSort(data):\n",
    "    data_size = len(data)\n",
    "    current = 1\n",
    "    while current < data_size:\n",
    "        for i in range(current):\n",
    "            if data[current] < data[i]:\n",
    "                temp = data[i]\n",
    "                data[i] = data[current]\n",
    "                data[current] = temp\n",
    "\n",
    "        current += 1\n",
    "\n",
    "    return data\n",
    "\n",
    "if __name__ == \"__main__\":\n",
    "    myList = [5,2,7,1,9,3,6]\n",
    "    sortedList = insertionSort(myList)\n",
    "    print sortedList"
   ]
  },
  {
   "cell_type": "markdown",
   "metadata": {},
   "source": [
    "# Quicksort\n",
    "Quicksort is a very efficient sorting algorithm invented by C.A.R. Hoare. It has two phases:\n",
    "\n",
    "- the partition phase\n",
    "- the sort phase\n",
    "\n",
    "Most of the work is done in the partition phase - it works out where to divide the work. The sort phase simply sorts the two smaller problems that are generated in the partition phase.\n",
    "\n",
    "This makes Quicksort a good example of the divide and conquer strategy for solving problems. This is similar in principle to the binary search. In the quicksort, we divide the array of items to be sorted into two partitions and then call the quicksort procedure recursively to sort the two partitions, ie we divide the problem into two smaller ones and conquer by solving the smaller ones.\n",
    "\n",
    "[Click here for an animation of the quicksort algorithm from CS Animation](http://www.csanimated.com/animation.php?t=Quicksort)\n",
    "\n",
    "The conquer part of the quicksort routine looks like this:\n",
    "\n",
    "```python\n",
    "def quicksort(myList, start, end):\n",
    "    if start < end:\n",
    "        # partition the list\n",
    "        pivot = partition(myList, start, end)\n",
    "        # sort both halves\n",
    "        quicksort(myList, start, pivot-1)\n",
    "        quicksort(myList, pivot+1, end)\n",
    "    return myList\n",
    "```\n",
    "\n",
    "The divide part of the algorithm looks like this in Python\n",
    "\n",
    " ```python\n",
    "def partition(myList, start, end):\n",
    "    pivot = myList[start]\n",
    "    left = start+1\n",
    "    right = end\n",
    "    done = False\n",
    "    while not done:\n",
    "        while left <= right and myList[left] <= pivot:\n",
    "            left = left + 1\n",
    "        while myList[right] >= pivot and right >=left:\n",
    "            right = right -1\n",
    "        if right < left:\n",
    "            done= True\n",
    "        else:\n",
    "            # swap places\n",
    "            temp=myList[left]\n",
    "            myList[left]=myList[right]\n",
    "            myList[right]=temp\n",
    "    # swap start with myList[right]\n",
    "    temp=myList[start]\n",
    "    myList[start]=myList[right]\n",
    "    myList[right]=temp\n",
    "    return right\n",
    "```"
   ]
  },
  {
   "cell_type": "markdown",
   "metadata": {},
   "source": [
    "# Stacks\n",
    "A stack is a last in, first out (LIFO) structure. Items are stored in the stack, but if an item is taken from the stack, it is always the last one that was added.\n"
   ]
  },
  {
   "cell_type": "code",
   "execution_count": 46,
   "metadata": {
    "collapsed": false
   },
   "outputs": [
    {
     "data": {
      "text/plain": [
       "'z'"
      ]
     },
     "execution_count": 46,
     "metadata": {},
     "output_type": "execute_result"
    }
   ],
   "source": [
    "# %load stack.py\n",
    "\"\"\"\n",
    "Created on Wed Dec 30 14:56:50 2015\n",
    "\n",
    "@author: tvu\n",
    "\"\"\"\n",
    "\n",
    "class Stack:\n",
    "     def __init__(self):\n",
    "         self.items = []\n",
    "\n",
    "     def isEmpty(self):\n",
    "         return self.items == []\n",
    "\n",
    "     def push(self, item):\n",
    "         self.items.append(item)\n",
    "\n",
    "     def pop(self):\n",
    "         return self.items.pop()\n",
    "\n",
    "     def peek(self):\n",
    "         return self.items[len(self.items)-1]\n",
    "\n",
    "     def size(self):\n",
    "         return len(self.items)\n",
    "         \n",
    "m = Stack()\n",
    "m.push('x')\n",
    "m.push('y')\n",
    "m.pop()\n",
    "m.push('z')\n",
    "m.peek()"
   ]
  },
  {
   "cell_type": "markdown",
   "metadata": {},
   "source": [
    "# Queues\n",
    "A queue is a first in, first out (FIFO) structure. This means that the first item to join the queue is the first to leave the queue. A queue can be implemented using an array (called a list in Python), or using OOP techniques.\n",
    "\n",
    "A list implementation for a linear queue will use an append method to add to the queue and a delete method to remove from the queue.\n",
    "\n",
    "Another type of queue is a circular queue. With this type of queue, if the end of the available spaces are reached, then the next item to be added uses any available spaces at the start of the queue. This is a more efficient use of space."
   ]
  },
  {
   "cell_type": "code",
   "execution_count": 45,
   "metadata": {
    "collapsed": false
   },
   "outputs": [
    {
     "name": "stdout",
     "output_type": "stream",
     "text": [
      "3\n"
     ]
    }
   ],
   "source": [
    "# %load queue.py\n",
    "\"\"\"\n",
    "Created on Wed Dec 30 15:02:26 2015\n",
    "\n",
    "@author: tvu\n",
    "\"\"\"\n",
    "\n",
    "class Queue:\n",
    "    def __init__(self):\n",
    "        self.items = []\n",
    "\n",
    "    def isEmpty(self):\n",
    "        return self.items == []\n",
    "\n",
    "    def enqueue(self, item):\n",
    "        self.items.insert(0,item)\n",
    "\n",
    "    def dequeue(self):\n",
    "        return self.items.pop()\n",
    "\n",
    "    def size(self):\n",
    "        return len(self.items)\n",
    "\n",
    "q=Queue()\n",
    "q.enqueue(4)\n",
    "q.enqueue('dog')\n",
    "q.enqueue(True)\n",
    "print(q.size())"
   ]
  },
  {
   "cell_type": "markdown",
   "metadata": {},
   "source": [
    "# Linked Lists\n",
    "\n",
    "A linked list is a data structure that uses pointers to point to the next item in the list. A linked list can be implemented using an array or using a class.\n",
    "\n",
    "A linked list is a kind of list where each item in the list has two parts: its content, and a pointer to the next item in the list. This means it can grow dynamically and there is no restriction on its size.\n",
    "\n",
    "A linked list does not have a fixed size and therefore it allocates memory to the next item in the list as and when it needs it. When a location is needed, it is pulled from a pool of all the available main memory locations in main memory called the heap. When they are no longer required, the locations can be returned to the heap for use by other applications. This operation is known as “freeing” the pointer.\n",
    "\n",
    "The name given to a pointer represents the location that contains the address of the location you are using – you never know the address of the location being referenced; the pointer finds it for you from the heap.\n",
    "\n",
    "Here is a simple implementation of a linked list using a class:"
   ]
  },
  {
   "cell_type": "code",
   "execution_count": 49,
   "metadata": {
    "collapsed": false
   },
   "outputs": [
    {
     "name": "stdout",
     "output_type": "stream",
     "text": [
      "car\n",
      "bus\n",
      "lorry\n",
      "()\n"
     ]
    }
   ],
   "source": [
    "# %load linked_list.py\n",
    "# new linked list\n",
    "\n",
    "class Node:\n",
    "    def __init__(self, contents=None, next=None):\n",
    "        self.contents = contents\n",
    "        self.next  = next\n",
    "\n",
    "    def getContents(self):\n",
    "        return self.contents\n",
    "\n",
    "    def __str__(self):\n",
    "        return str(self.contents)\n",
    "\n",
    "def print_list(node):\n",
    "    while node:        \n",
    "        print(node.getContents())\n",
    "        node = node.next\n",
    "    print()\n",
    "\n",
    "def testList():\n",
    "    node1 = Node(\"car\")\n",
    "    node2 = Node(\"bus\")\n",
    "    node3 = Node(\"lorry\")\n",
    "    node1.next = node2\n",
    "    node2.next = node3\n",
    "    print_list(node1)\n",
    "    \n",
    "testList()  \n",
    "\n"
   ]
  }
 ],
 "metadata": {
  "kernelspec": {
   "display_name": "Python 2",
   "language": "python",
   "name": "python2"
  },
  "language_info": {
   "codemirror_mode": {
    "name": "ipython",
    "version": 2
   },
   "file_extension": ".py",
   "mimetype": "text/x-python",
   "name": "python",
   "nbconvert_exporter": "python",
   "pygments_lexer": "ipython2",
   "version": "2.7.10"
  }
 },
 "nbformat": 4,
 "nbformat_minor": 0
}
