{
 "cells": [
  {
   "cell_type": "markdown",
   "metadata": {},
   "source": [
    "# String Operation and Math Unit Exercises\n",
    "\n",
    "On this page you will find a range of additional exercises that will help you practice the skills from the previous pages. You may need to investigate the [Python Documentation](http://docs.python.org/py3k/) as well...\n",
    "\n",
    "You will find the solutions to these exercises on your [GitHub](https://github.com/pythonschool/Basics) page.\n",
    "\n",
    "# Using the Math Unit\n",
    "\n",
    "The Math Unit enables you to use mathematical functions such as π (pi) and sine, cosine and tangent.\n",
    "\n",
    "You can use it by including the following line at the top of your program:\n",
    "\n",
    "import math\n",
    "\n",
    "The following functions may be useful:\n",
    "\n",
    "- ```math.pi``` - provides an approximation of π\n",
    "- ```math.radians(x)``` - converts x from degrees to radians.\n",
    "- ```math.sin(x)``` - returns the sine of x radians.\n",
    "- ```math.cos(x)``` - returns the cosine of x radians.\n",
    "- ```math.tan(x)``` - returns the tangent of x radians.\n",
    "\n",
    "# String Operations\n",
    "\n",
    "There are various functions you can apply to strings that may be helpful (assuming you have a string stored in a variable called \n",
    "\n",
    "yourString):\n",
    "\n",
    "- ```yourString.upper()``` - returns the string in upper case.\n",
    "- ```yourString.lower()``` - returns the string in lower case.\n",
    "- ```yourString.capitalize()``` - returns the string with the first letter of the string capitalized\n",
    "- ```yourString.title()``` - returns the string with the first letter of each word capitalzed.\n",
    "- ```yourString.replace(x,y)``` - returns the string with the characters represented by x replaced by the characters represented by y.\n",
    "- ```yourString[x:y]``` - returns the string starting at character x and ending before character y."
   ]
  }
 ],
 "metadata": {
  "kernelspec": {
   "display_name": "Python 2",
   "language": "python",
   "name": "python2"
  },
  "language_info": {
   "codemirror_mode": {
    "name": "ipython",
    "version": 2
   },
   "file_extension": ".py",
   "mimetype": "text/x-python",
   "name": "python",
   "nbconvert_exporter": "python",
   "pygments_lexer": "ipython2",
   "version": "2.7.10"
  }
 },
 "nbformat": 4,
 "nbformat_minor": 0
}
