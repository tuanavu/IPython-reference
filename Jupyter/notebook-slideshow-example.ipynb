{
 "metadata": {
  "name": ""
 },
 "nbformat": 3,
 "nbformat_minor": 0,
 "worksheets": [
  {
   "cells": [
    {
     "cell_type": "markdown",
     "metadata": {
      "slideshow": {
       "slide_type": "slide"
      }
     },
     "source": [
      "<p class=\"title\">Title here: a Notebook-based talk</p>\n",
      "\n",
      "<p class=\"subtitle\">With a great subtitle!</p>\n",
      "\n",
      "<center>\n",
      "\n",
      "<p class=\"gap05\"<p>\n",
      "<h2>[ipython.org](http://ipython.org)</h2>\n",
      "\n",
      "<p class=\"gap05\"<p>\n",
      "<h3> Fernando P\u00e9rez </h3>\n",
      "<h3>[fperez.org](http://fperez.org), [@fperez_org](http://twitter.com/fperez_org)</h3>\n",
      "<h3>U.C. Berkeley</h3>\n",
      "\n",
      "<p class=\"gap2\"<p>\n",
      "</center>"
     ]
    },
    {
     "cell_type": "markdown",
     "metadata": {},
     "source": [
      "## How to use this to write slideshows...\n",
      "\n",
      "### Installation check\n",
      "\n",
      "First, this presumes you've already read and executed once the accompanying `install-support` notebook, which should install the necessary tools for you, and you restarted your notebook server. If everything went well, right now your toolbar should look like this, with a new button highlighted here in red:\n",
      "\n",
      "![img](files/toolbar-slideshow.png)\n",
      "\n",
      "That new button is the toggle to enter live slideshow mode, which you can use to switch between the normal editing mode (with the whole notebook as one long scrolling document) and the presentation mode.\n",
      "\n",
      "### Loading the CSS\n",
      "\n",
      "All the CSS is kept in a file called `style.css`, and it's loaded, along with a few handy utilities, by the `talktools.py` script.  Simply run it once to load everything, or if you make any tweaks to the CSS:"
     ]
    },
    {
     "cell_type": "code",
     "collapsed": false,
     "input": [
      "# I keep this as a cell in my title slide so I can rerun \n",
      "# it easily if I make changes, but it's low enough it won't\n",
      "# be visible in presentation mode.\n",
      "%run talktools"
     ],
     "language": "python",
     "metadata": {
      "slideshow": {
       "slide_type": "-"
      }
     },
     "outputs": [
      {
       "html": [
        "<style>\n",
        "\n",
        ".rendered_html\n",
        "{\n",
        "  color: #2C5494;\n",
        "  font-family: Ubuntu;\n",
        "  font-size: 140%;\n",
        "  line-height: 1.1;\n",
        "  margin: 0.5em 0;\n",
        "  }\n",
        "\n",
        ".title\n",
        "{\n",
        "  color: #498AF3;\n",
        "  font-size: 250%;\n",
        "  font-weight:bold;\n",
        "  line-height: 1.2; \n",
        "  margin: 10px 50px 10px;\n",
        "  }\n",
        "\n",
        ".subtitle\n",
        "{\n",
        "  color: #386BBC;\n",
        "  font-size: 180%;\n",
        "  font-weight:bold;\n",
        "  line-height: 1.2; \n",
        "  margin: 20px 50px 20px;\n",
        "  }\n",
        "\n",
        ".slide-header, p.slide-header\n",
        "{\n",
        "  color: #498AF3;\n",
        "  font-size: 200%;\n",
        "  font-weight:bold;\n",
        "  margin: 0px 20px 10px;\n",
        "  page-break-before: always;\n",
        "  text-align: center;\n",
        "  }\n",
        "\n",
        ".rendered_html h1\n",
        "{\n",
        "  color: #498AF3;\n",
        "  line-height: 1.2; \n",
        "  margin: 0.15em 0em 0.5em;\n",
        "  page-break-before: always;\n",
        "  text-align: center;\n",
        "  }\n",
        "\n",
        "\n",
        ".rendered_html h2\n",
        "{ \n",
        "  color: #386BBC;\n",
        "  line-height: 1.2;\n",
        "  margin: 1.1em 0em 0.5em;\n",
        "  }\n",
        "\n",
        ".rendered_html h3\n",
        "{ \n",
        "  font-size: 100%;\n",
        "  line-height: 1.2;\n",
        "  margin: 1.1em 0em 0.5em;\n",
        "  }\n",
        "\n",
        ".rendered_html li\n",
        "{\n",
        "  line-height: 1.8;\n",
        "  }\n",
        "\n",
        ".input_prompt, .CodeMirror-lines, .output_area\n",
        "{\n",
        "  font-family: Consolas;\n",
        "  font-size: 120%;\n",
        "  }\n",
        "\n",
        ".gap-above\n",
        "{\n",
        "  padding-top: 200px;\n",
        "  }\n",
        "\n",
        ".gap01\n",
        "{\n",
        "  padding-top: 10px;\n",
        "  }\n",
        "\n",
        ".gap05\n",
        "{\n",
        "  padding-top: 50px;\n",
        "  }\n",
        "\n",
        ".gap1\n",
        "{\n",
        "  padding-top: 100px;\n",
        "  }\n",
        "\n",
        ".gap2\n",
        "{\n",
        "  padding-top: 200px;\n",
        "  }\n",
        "\n",
        ".gap3\n",
        "{\n",
        "  padding-top: 300px;\n",
        "  }\n",
        "\n",
        ".emph\n",
        "{\n",
        "  color: #386BBC;\n",
        "  }\n",
        "\n",
        ".warn\n",
        "{\n",
        "  color: red;\n",
        "  }\n",
        "\n",
        ".center\n",
        "{\n",
        "  text-align: center;\n",
        "  }\n",
        "\n",
        ".nb_link\n",
        "{\n",
        "    padding-bottom: 0.5em;\n",
        "}\n",
        "\n",
        "</style>\n"
       ],
       "metadata": {},
       "output_type": "display_data",
       "text": [
        "<IPython.core.display.HTML at 0x2872410>"
       ]
      }
     ],
     "prompt_number": 30
    },
    {
     "cell_type": "code",
     "collapsed": false,
     "input": [
      "website('nbviewer.ipython.org', 'Notebook Viewer - nbviewer')"
     ],
     "language": "python",
     "metadata": {},
     "outputs": [
      {
       "html": [
        "<div class=\"nb_link\">\n",
        "<a href=\"http://nbviewer.ipython.org\" target=\"_blank\">Notebook Viewer - nbviewer</a>\n",
        "</div>\n",
        "<iframe src=\"http://nbviewer.ipython.org\"  width=\"800\" height=\"450\">"
       ],
       "metadata": {},
       "output_type": "pyout",
       "prompt_number": 27,
       "text": [
        "<IPython.core.display.HTML at 0x2866d90>"
       ]
      }
     ],
     "prompt_number": 27
    },
    {
     "cell_type": "heading",
     "level": 2,
     "metadata": {},
     "source": [
      "Editing"
     ]
    },
    {
     "cell_type": "markdown",
     "metadata": {},
     "source": [
      "Once you've loaded the above, the *editing* workflow (a bit primitive, admittedly) is:\n",
      "\n",
      "* From the \"Cell Toolbar\" menu, select \"Slideshow\". This will give you a little dropdown for each cell.\n",
      "\n",
      "* To start a new slide, mark a cell as \"Slide\".\n",
      "\n",
      "* If you want a chunk of a slide to be revealed incrementally, mark it as 'Fragment'.\n",
      "\n",
      "* See the source for the various slides in this file or the contents of the `style.css` file for various useful CSS classes that you can use.\n",
      "\n",
      "\n",
      "\n",
      "**Note** One thing this mode does NOT have is any notion of page size. What I do to estimate the size of my slides is to resize my browser window so the slideshow area is ~ 760px tall.  Since most projectors work at 1024x768, this works well.  I try to keep most of them confined to that vertical size, though if needed it's still OK to have taller ones, you just need to remember to scroll them down during presentation."
     ]
    },
    {
     "cell_type": "heading",
     "level": 2,
     "metadata": {},
     "source": [
      "Presenting"
     ]
    },
    {
     "cell_type": "markdown",
     "metadata": {},
     "source": [
      "For presentations, you should toggle the \"Cell toolbar\" menu to \"None\", so that it doesn't appear in your slides.  Then you can move back and forth with the GUI controls.\n",
      "\n",
      "If you click on the \"Enable Slide Mode\" button, the right/left arrows will become also keys to move between slides.  But note that at any point if you start typing into the notebook, that functionality will be inactivated, so you can use the arrows normally.  You can turn it on again for further presentation by clicking the button again."
     ]
    },
    {
     "cell_type": "heading",
     "level": 2,
     "metadata": {},
     "source": [
      "Example slides"
     ]
    },
    {
     "cell_type": "markdown",
     "metadata": {},
     "source": [
      "The next slides are a few example ones from a real talk of mine, so you can get a sense for how to lay things out in a presentation."
     ]
    },
    {
     "cell_type": "markdown",
     "metadata": {
      "slideshow": {
       "slide_type": "slide"
      }
     },
     "source": [
      "<div class=\"slide-header\">Why IPython?</div>\n",
      "\n",
      "<center>\n",
      "*\"The purpose of computing is insight, not numbers\"*\n",
      "<p style=\"margin-left:70%\">Hamming '62</p>\n",
      "</center>"
     ]
    },
    {
     "cell_type": "markdown",
     "metadata": {
      "slideshow": {
       "slide_type": "fragment"
      }
     },
     "source": [
      "## The Lifecycle of a Scientific Idea (schematically)\n",
      "\n",
      "1. <span class=\"emph\">**Individual**</span> exploratory work\n",
      "2. <span class=\"emph\">**Collaborative**</span> development\n",
      "3. <span class=\"emph\">**Parallel**</span> production runs (HPC, cloud, ...)\n",
      "4. <span class=\"emph\">**Publication**</span> (with <span class=\"warn\">reproducible</span> results!)\n",
      "5. <span class=\"emph\">**Education**</span>\n",
      "6. Goto 1."
     ]
    },
    {
     "cell_type": "markdown",
     "metadata": {
      "slideshow": {
       "slide_type": "slide"
      }
     },
     "source": [
      "<div class=\"slide-header\">From a better shell...</div>\n",
      "<center>\n",
      "<img src=\"files/ipython_console4.png\" width=\"80%\">\n",
      "</center>"
     ]
    },
    {
     "cell_type": "markdown",
     "metadata": {
      "slideshow": {
       "slide_type": "slide"
      }
     },
     "source": [
      "<div class=\"slide-header\">... to sharing notebooks with zero-install...</div>\n",
      "## Matthias Bussonnier, 2012"
     ]
    },
    {
     "cell_type": "code",
     "collapsed": false,
     "input": [
      "website('nbviewer.ipython.org', 'Notebook Viewer - nbviewer')"
     ],
     "language": "python",
     "metadata": {},
     "outputs": [
      {
       "html": [
        "<div sytle=\"margin-bottom:10px\">\n",
        "<a href=\"http://nbviewer.ipython.org\">Notebook Viewer - nbviewer</a>\n",
        "</div>\n",
        "<iframe src=\"http://nbviewer.ipython.org\"  width=\"800\" height=\"450\">"
       ],
       "metadata": {},
       "output_type": "pyout",
       "prompt_number": 3,
       "text": [
        "<IPython.core.display.HTML at 0x2866ed0>"
       ]
      }
     ],
     "prompt_number": 3
    },
    {
     "cell_type": "markdown",
     "metadata": {
      "slideshow": {
       "slide_type": "slide"
      }
     },
     "source": [
      "<div class=\"slide-header\">... to the first White House Hackathon...</div>\n",
      "## IPython and NetworkX go to DC"
     ]
    },
    {
     "cell_type": "code",
     "collapsed": false,
     "input": [
      "YouTubeVideo('sjfsUzECqK0', start='40', width=600, height=400)"
     ],
     "language": "python",
     "metadata": {},
     "outputs": [
      {
       "html": [
        "\n",
        "        <iframe\n",
        "            width=\"600\"\n",
        "            height=400\"\n",
        "            src=\"http://www.youtube.com/embed/sjfsUzECqK0?start=40\"\n",
        "            frameborder=\"0\"\n",
        "            allowfullscreen\n",
        "        ></iframe>\n",
        "        "
       ],
       "metadata": {},
       "output_type": "pyout",
       "prompt_number": 158,
       "text": [
        "<IPython.lib.display.YouTubeVideo at 0x83acf10>"
       ]
      }
     ],
     "prompt_number": 158
    },
    {
     "cell_type": "markdown",
     "metadata": {
      "slideshow": {
       "slide_type": "slide"
      }
     },
     "source": [
      "\n",
      "# `IPython.parallel`\n",
      "\n",
      "* Cluster: one *controller* (master), N dynamic *engines* (slaves). $N \\lesssim 300$.\n",
      "* Accessed by users via dynamic proxy: `parallel.Client`.\n",
      "* A `Client` creates as many *views* as desired by user:\n",
      "  - `DirectView`: SPMD.\n",
      "  - `LoadBalancedView`: automatic task distribution.\n",
      "  - Blocking and async APIs.\n",
      "  - Direct `put` and `get` (and `scatter`/`gather`).\n",
      "  - Views can span arbitrary subgroups of the cluster.\n",
      "  - Multiple views coexist simultaneously.\n",
      "* One-sided communication model.\n",
      "* Happy coexistence with MPI.\n",
      "* All comms with [\u00d8MQ](http://www.zeromq.org), in C++, no GIL, zero-copy when possible."
     ]
    },
    {
     "cell_type": "markdown",
     "metadata": {
      "slideshow": {
       "slide_type": "slide"
      }
     },
     "source": [
      "# Lessons in building a community\n",
      "\n",
      "## A delicate balancing act\n",
      "\n",
      "* Individual leadership and sense of ownership vs turf wars.\n",
      "* Clear project vision vs. broad engagement of a community with many ideas.\n",
      "\n",
      "## Disagreement: highly reactive fuel\n",
      "\n",
      "* Can power creativity or spectacularly blow up.\n",
      "* Patience, trust, generosity and respect.\n",
      "* Make calls and live with the mistakes without recrimination.\n",
      "\n",
      "## The rules apply to everyone, starting with me\n",
      "\n",
      "* Even if they slow me down!\n",
      "\n"
     ]
    }
   ],
   "metadata": {}
  }
 ]
}
