{
 "cells": [
  {
   "cell_type": "markdown",
   "metadata": {},
   "source": [
    "# What is jupyterhub?"
   ]
  },
  {
   "cell_type": "markdown",
   "metadata": {},
   "source": [
    "* Server that allows users to log in to a Jupyter system over the web\n",
    "* Allows users full Linux account access\n",
    "* Manages access to Jupyter notebooks\n",
    "* Bryn Mawr College customizations\n",
    " * Installed libraries and kernels\n",
    " * HTML\n",
    " * Public file browser and notebook viewer"
   ]
  },
  {
   "cell_type": "markdown",
   "metadata": {},
   "source": [
    "# What is Jupyter?"
   ]
  },
  {
   "cell_type": "markdown",
   "metadata": {},
   "source": [
    "* Vast collection of interfaces between editors/IDE (\"frontends\") and programming language \"kernels\" (\"backends\")\n",
    " * Additional libraries and utilities for:\n",
    "   * parallel computation\n",
    "   * data visualization\n",
    "   * database access\n",
    "   * scientific computing, in general\n",
    "* One of the frontends is the notebook\n",
    "* One of the backends/kernels is Python\n",
    "* IPython 3.0.0 and Jupyter are synonomous\n",
    "\n",
    "## What is the notebook frontend?\n",
    "\n",
    "* Allows code, markdown, plots/graphs, widgets, images, and $\\LaTeX$ equations\n",
    "* Users can edit code/text live\n",
    "* Others can view a static version of the notebook (using nbviewer or Jupyter.Physics' Public interface)\n",
    "* There can be many frontends per kernel\n",
    "* There are a few different frontends: console, qtconsole, notebook (and some others, like pycharms, idle-x)\n",
    "* Executable content: users can download a notebook (.ipynb) file and re-execute in their account, or anywhere\n",
    "* **Reproducible Research**\n",
    "* Encourages \"literate computing\": writing about computation to a broad audience\n",
    "\n",
    "### Example"
   ]
  },
  {
   "cell_type": "code",
   "execution_count": 1,
   "metadata": {
    "collapsed": false
   },
   "outputs": [
    {
     "data": {
      "text/plain": [
       "3"
      ]
     },
     "execution_count": 1,
     "metadata": {},
     "output_type": "execute_result"
    }
   ],
   "source": [
    "(+ 1 2)"
   ]
  },
  {
   "cell_type": "code",
   "execution_count": 2,
   "metadata": {
    "collapsed": false
   },
   "outputs": [
    {
     "name": "stdout",
     "output_type": "stream",
     "text": [
      "Hello, world!\n"
     ]
    }
   ],
   "source": [
    "print(\"Hello, world!\")"
   ]
  },
  {
   "cell_type": "markdown",
   "metadata": {},
   "source": [
    "### Magics\n",
    "\n",
    "* Magics are \"metacommands\"\n",
    "* In IPython, magics are \"mixed\" with the language\n",
    "  * `m = %lsmagic`\n",
    "* Exact details of magics are kernel-specific; there are (possibly) different magics with different types of kernels"
   ]
  },
  {
   "cell_type": "code",
   "execution_count": 4,
   "metadata": {
    "collapsed": false
   },
   "outputs": [],
   "source": [
    "%lsmagic"
   ]
  },
  {
   "cell_type": "code",
   "execution_count": 6,
   "metadata": {
    "collapsed": false
   },
   "outputs": [
    {
     "data": {
      "text/plain": [
       "IPython.core.magics.basic.MagicsDisplay"
      ]
     },
     "execution_count": 6,
     "metadata": {},
     "output_type": "execute_result"
    }
   ],
   "source": [
    "type(ls)"
   ]
  },
  {
   "cell_type": "markdown",
   "metadata": {},
   "source": [
    "If you switch to a `MetaKernel` or `Calysto` kernel, you can do the following:"
   ]
  },
  {
   "cell_type": "code",
   "execution_count": 1,
   "metadata": {
    "collapsed": false
   },
   "outputs": [
    {
     "name": "stdout",
     "output_type": "stream",
     "text": [
      "downloading https://bitbucket.org/ipre/calico/raw/master/notebooks/nbextensions/calico-publish.js to /tmp/tmpT8krzD/calico-publish.js\r\n",
      "copying /tmp/tmpT8krzD/calico-publish.js -> /home/dblank/.ipython/nbextensions/calico-publish.js\r\n",
      "\n"
     ]
    }
   ],
   "source": [
    "%install calico-publish"
   ]
  },
  {
   "cell_type": "markdown",
   "metadata": {},
   "source": [
    "(now switching back to an IPython kernel; shift + reloading page forces new Javascript to be read)"
   ]
  },
  {
   "cell_type": "code",
   "execution_count": 1,
   "metadata": {
    "collapsed": false
   },
   "outputs": [],
   "source": [
    "%matplotlib inline"
   ]
  },
  {
   "cell_type": "code",
   "execution_count": 8,
   "metadata": {
    "collapsed": true
   },
   "outputs": [],
   "source": [
    "from matplotlib.pyplot import plot"
   ]
  },
  {
   "cell_type": "code",
   "execution_count": 9,
   "metadata": {
    "collapsed": false
   },
   "outputs": [
    {
     "data": {
      "text/plain": [
       "[<matplotlib.lines.Line2D at 0x7faf77af27b8>]"
      ]
     },
     "execution_count": 9,
     "metadata": {},
     "output_type": "execute_result"
    },
    {
     "data": {
      "image/png": "[encoded data removed]",
      "text/plain": [
       "<matplotlib.figure.Figure at 0x7faf77b2d5c0>"
      ]
     },
     "metadata": {},
     "output_type": "display_data"
    }
   ],
   "source": [
    "plot([1, 4, 2, 8, 3])"
   ]
  },
  {
   "cell_type": "code",
   "execution_count": 2,
   "metadata": {
    "collapsed": false
   },
   "outputs": [
    {
     "name": "stdout",
     "output_type": "stream",
     "text": [
      "adium-theme-ubuntu (0.3.4)\r\n",
      "apt-xapian-index (0.45)\r\n",
      "backports.ssl-match-hostname (3.4.0.2)\r\n",
      "beautifulsoup4 (4.2.1)\r\n",
      "cairocffi (0.6)\r\n",
      "CairoSVG (1.0.9)\r\n",
      "calysto (0.2)\r\n",
      "calysto-scheme (0.5.1)\r\n",
      "certifi (14.05.14)\r\n",
      "cffi (0.8.6)\r\n",
      "chardet (2.0.1)\r\n",
      "command-not-found (0.3)\r\n",
      "cvxopt (1.1.4)\r\n",
      "Cython (0.21)\r\n",
      "debtagshw (0.1)\r\n",
      "decorator (3.4.0)\r\n",
      "defer (1.0.6)\r\n",
      "dirspec (13.10)\r\n",
      "docutils (0.11)\r\n",
      "duplicity (0.6.23)\r\n",
      "gyp (0.1)\r\n",
      "html5lib (0.999)\r\n",
      "httplib2 (0.8)\r\n",
      "ipython (3.0.0-dev)\r\n",
      "Jinja2 (2.7.2)\r\n",
      "joblib (0.7.1)\r\n",
      "jsonpointer (1.4)\r\n",
      "jsonschema (2.4.0)\r\n",
      "lockfile (0.8)\r\n",
      "lxml (3.3.3)\r\n",
      "MarkupSafe (0.18)\r\n",
      "matplotlib (1.3.1)\r\n",
      "metakernel (0.5.1)\r\n",
      "metakernel-bash (0.5.1)\r\n",
      "metakernel-echo (0.5.1)\r\n",
      "metakernel-python (0.5.1)\r\n",
      "mistune (0.5)\r\n",
      "MySQL-python (1.2.3)\r\n",
      "nltk (3.0.0)\r\n",
      "nose (1.3.1)\r\n",
      "numexpr (2.2.2)\r\n",
      "numpy (1.8.2)\r\n",
      "oauthlib (0.6.1)\r\n",
      "oneconf (0.3.7)\r\n",
      "openpyxl (1.7.0)\r\n",
      "PAM (0.4.2)\r\n",
      "pandas (0.13.1)\r\n",
      "patsy (0.2.1)\r\n",
      "pexpect (3.1)\r\n",
      "Pillow (2.3.0)\r\n",
      "pip (6.0.dev1)\r\n",
      "piston-mini-client (0.7.5)\r\n",
      "plotly (1.3.1)\r\n",
      "ptyprocess (0.3.1)\r\n",
      "pycparser (2.10)\r\n",
      "pycrypto (2.6.1)\r\n",
      "pycups (1.9.66)\r\n",
      "pycurl (7.19.3)\r\n",
      "Pygments (1.6)\r\n",
      "pygobject (3.12.0)\r\n",
      "pyOpenSSL (0.13)\r\n",
      "pyparsing (2.0.1)\r\n",
      "pyserial (2.6)\r\n",
      "pysmbc (1.0.14.1)\r\n",
      "pysqlite (1.0.1)\r\n",
      "python-apt (0.9.3.5)\r\n",
      "python-dateutil (1.5)\r\n",
      "python-debian (0.1.21-nmu2ubuntu2)\r\n",
      "pytz (2012c)\r\n",
      "pyxdg (0.25)\r\n",
      "pyzmq (14.4.0)\r\n",
      "reportlab (3.0)\r\n",
      "requests (2.2.1)\r\n",
      "roman (2.0.0)\r\n",
      "scikit-image (0.10.1)\r\n",
      "scikit-learn (0.15.2)\r\n",
      "scipy (0.13.3)\r\n",
      "sessioninstaller (0.0.0)\r\n",
      "setuptools (3.3)\r\n",
      "simplegeneric (0.8.1)\r\n",
      "simplejson (3.3.1)\r\n",
      "simplepam (0.1.5)\r\n",
      "six (1.8.0)\r\n",
      "software-center-aptd-plugins (0.0.0)\r\n",
      "Sphinx (1.2.2)\r\n",
      "SQLAlchemy (0.9.8)\r\n",
      "ssh-import-id (3.21)\r\n",
      "statsmodels (0.5.0)\r\n",
      "svgwrite (1.1.6)\r\n",
      "sympy (0.7.4.1)\r\n",
      "system-service (0.1.6)\r\n",
      "tables (3.1.1)\r\n",
      "terminado (0.2)\r\n",
      "tornado (3.1.1)\r\n",
      "Twisted-Core (13.2.0)\r\n",
      "Twisted-Web (13.2.0)\r\n",
      "unity-lens-photos (1.0)\r\n",
      "urllib3 (1.7.1)\r\n",
      "xdiagnose (3.6.3build2)\r\n",
      "xlrd (0.9.2)\r\n",
      "xlwt (0.7.5)\r\n",
      "zope.interface (4.0.5)\r\n"
     ]
    }
   ],
   "source": [
    "! pip list"
   ]
  },
  {
   "cell_type": "code",
   "execution_count": null,
   "metadata": {
    "collapsed": true
   },
   "outputs": [],
   "source": []
  }
 ],
 "metadata": {
  "kernelspec": {
   "display_name": "IPython (Python 3)",
   "name": "python3"
  },
  "language_info": {
   "codemirror_mode": {
    "name": "ipython",
    "version": 3
   },
   "file_extension": ".py",
   "mimetype": "text/x-python",
   "name": "python",
   "nbconvert_exporter": "python",
   "pygments_lexer": "ipython3",
   "version": "3.4.0"
  },
  "signature": "sha256:57e567db5016f3ad8f31604daf707648c2551a8a5b10cc168e5048b28c412536"
 },
 "nbformat": 4,
 "nbformat_minor": 0
}