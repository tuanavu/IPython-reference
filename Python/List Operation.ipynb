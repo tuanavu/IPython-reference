{
 "cells": [
  {
   "cell_type": "markdown",
   "metadata": {},
   "source": [
    "# List operations\n",
    "\n",
    "Slicing is one way of locating certain items in a list. For example, myList[1:3] will print item 1 and item 2 (remember lists start at item 0). len() can be used to find the length of a list.\n",
    "\n",
    "```python\n",
    "my_list = [5,7,12,9,4,6,8,9]\n",
    "length = len(my_list)\n",
    "print(length)\n",
    "\n",
    "my_list.reverse() #can be used to reverse the list\n",
    "```\n",
    "\n",
    "# Adding and taking away from a list of items\n",
    "\n",
    "Here are some useful functions:\n",
    "\n",
    "- ```my_list.append(“lion”)``` - will add the item lion to the end of the list\n",
    "- ```my_list.insert(3,”lion”)``` - will add “Lion” before item 3 in the list\n",
    "- ```my_list.pop(5)``` - will delete the 5th item"
   ]
  }
 ],
 "metadata": {
  "kernelspec": {
   "display_name": "Python 2",
   "language": "python",
   "name": "python2"
  },
  "language_info": {
   "codemirror_mode": {
    "name": "ipython",
    "version": 2
   },
   "file_extension": ".py",
   "mimetype": "text/x-python",
   "name": "python",
   "nbconvert_exporter": "python",
   "pygments_lexer": "ipython2",
   "version": "2.7.10"
  }
 },
 "nbformat": 4,
 "nbformat_minor": 0
}
