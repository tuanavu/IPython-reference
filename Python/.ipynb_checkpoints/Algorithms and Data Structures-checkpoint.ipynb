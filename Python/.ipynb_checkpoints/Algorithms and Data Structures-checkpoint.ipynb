{
 "cells": [
  {
   "cell_type": "markdown",
   "metadata": {},
   "source": [
    "# Algorithms and Data Structures\n",
    "In this one-day course the following algorithms will be demonstrated:\n",
    "\n",
    "- Linear Search\n",
    "- Binary Search\n",
    "- Bubble Sort\n",
    "- Insertion Sort\n",
    "- Quick Sort\n",
    "\n",
    "These are algorithms that students are expected to understand for A-Level Computing. It is very useful to be able to implement them in a programming language to understand more fully how they work.\n",
    "\n",
    "These data structures will be covered:\n",
    "\n",
    "- Stack\n",
    "- Queue\n",
    "- Linked List\n",
    "- Binary Tree\n",
    "\n",
    "Again, being able to implement these in a programming language will aid understanding."
   ]
  },
  {
   "cell_type": "markdown",
   "metadata": {},
   "source": [
    "# Linear Search\n",
    "\n",
    "The linear search is used to find an item in a list. The items do not have to be in order. To search for an item, start at the beginning of the list and continue searching until either the end of the list is reached or the item is found.\n",
    "\n",
    "The algorithm is as follows (given a list called 'List' and looking for an item called 'item'):\n",
    "\n",
    "```python\n",
    "position <- 0\n",
    "found <- False\n",
    "while position < len(List) and not found:\n",
    "    if List[position] = item:\n",
    "        found <- True\n",
    "    position <- position + 1\n",
    "```\n",
    "\n",
    "Linear Search function:\n",
    "```python\n",
    "def linearSearch(myItem, myList):\n",
    "    \n",
    "```"
   ]
  },
  {
   "cell_type": "code",
   "execution_count": null,
   "metadata": {
    "collapsed": true
   },
   "outputs": [],
   "source": []
  }
 ],
 "metadata": {
  "kernelspec": {
   "display_name": "Python 2",
   "language": "python",
   "name": "python2"
  },
  "language_info": {
   "codemirror_mode": {
    "name": "ipython",
    "version": 2
   },
   "file_extension": ".py",
   "mimetype": "text/x-python",
   "name": "python",
   "nbconvert_exporter": "python",
   "pygments_lexer": "ipython2",
   "version": "2.7.10"
  }
 },
 "nbformat": 4,
 "nbformat_minor": 0
}
