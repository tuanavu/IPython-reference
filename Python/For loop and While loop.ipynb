{
 "cells": [
  {
   "cell_type": "markdown",
   "metadata": {},
   "source": [
    "# FOR Loops\n",
    "\n",
    "We often want computers to repeat some process several times. Programming languages provide structures that enable you to repeat blocks of instructions over and over again. This type of repetition is known as iteration.\n",
    "\n",
    "There are two types of loop in Python:\n",
    "- the for loop\n",
    "- the while loop\n",
    "\n",
    "This simple for loop example would write \"hello world\" 5 times:\n",
    "\n",
    "```python\n",
    "for counter in range(5):\n",
    "      print(\"hello world\")\n",
    "```\n",
    "\n",
    "The for loop is used to repeat a series of statements a given number of times. The first line of the for statement is used to state how many times the code should be repeated. A stepper variable is used to count through each iteration of the loop."
   ]
  },
  {
   "cell_type": "markdown",
   "metadata": {},
   "source": [
    "# The range function\n",
    "\n",
    "The range() function is one of Python's built in functions. It is is used to indicate how many times the loop will be repeated.\n",
    "\n",
    "The structure of the range function is range(start, upto, step) in which the arguments of range are used as follows:\n",
    "\n",
    "- start and step are both optional.\n",
    "- upto must always be there, it means \"up to but not including\" the value.\n",
    "- start, upto, and step must all be integers\n",
    "\n",
    "Examples: of the use of range:\n",
    "\n",
    "- range(10) produces the list: [0,1,2,3,4,5,6,7,8,9]\n",
    "- range(1, 7) produces the list: [1,2,3,4,5,6]\n",
    "- range(0, 30, 5) produces the list: [0,5,10,15,20,25]\n",
    "- range(5, -1, -1) produces the list: [5,4,3,2,1,0]"
   ]
  },
  {
   "cell_type": "markdown",
   "metadata": {},
   "source": [
    "# While Loops\n",
    "There are two types of loop in Python:\n",
    "\n",
    "- the for loop\n",
    "- the while loop\n",
    "\n",
    "While loops are known as indefinite or conditional loops. They will keep iterating until certain conditions are met. There is no guarantee ahead of time regarding how many times the loop will iterate.\n",
    "\n",
    "The while loop, like the if statement, includes a boolean expression that evaluates to true or false. The code inside the loop will be repeatedly executed until the boolean expression is no longer true.\n",
    "\n",
    "Here is an example of a while loop being used to test a password. The password is secret and the code within the loop is executed until the user inputs the correct password.\n",
    "\n",
    "```python\n",
    "password = \"\"\n",
    "while password != \"secret\":\n",
    "    password = input(\"Please enter the password: \")\n",
    "    if password == \"secret\":\n",
    "        print(\"Thank you. You have entered the correct password\")\n",
    "    else:\n",
    "        print(\"Sorry the value entered in incorrect - try again\")\n",
    "```\n",
    "\n",
    "Here is another example showing a boolean variable being used to control the loop. This is very common with while loops. In this case, the boolean variable is named Invalid. Invalid is initially set to be True. The code within the loop is executed until Invalid is set to False. This is a good method for validating any input that needs to be within a certain range.\n",
    "\n",
    "```python\n",
    "invalid = True\n",
    "while invalid:\n",
    "    number = int(input(\"Please enter a number in the range 10 to 20: \"))\n",
    "    if number >= 10 and number <= 20:\n",
    "        invalid = False\n",
    "    else:\n",
    "        print(\"Sorry number must be between 10 and 20\")\n",
    "        print(\"Please try again\")\n",
    "print(\"You entered {0}\".format(number))\n",
    "print(\"This is a valid number\")\n",
    "```"
   ]
  }
 ],
 "metadata": {
  "kernelspec": {
   "display_name": "Python 2",
   "language": "python",
   "name": "python2"
  },
  "language_info": {
   "codemirror_mode": {
    "name": "ipython",
    "version": 2
   },
   "file_extension": ".py",
   "mimetype": "text/x-python",
   "name": "python",
   "nbconvert_exporter": "python",
   "pygments_lexer": "ipython2",
   "version": "2.7.10"
  }
 },
 "nbformat": 4,
 "nbformat_minor": 0
}
